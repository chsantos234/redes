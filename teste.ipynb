{
 "cells": [
  {
   "cell_type": "code",
   "execution_count": 1,
   "metadata": {},
   "outputs": [],
   "source": [
    "import http.client\n",
    "from env import env\n",
    "import json"
   ]
  },
  {
   "cell_type": "code",
   "execution_count": 26,
   "metadata": {},
   "outputs": [],
   "source": [
    "dump = True\n",
    "\n",
    "conn = http.client.HTTPSConnection(\"genius-song-lyrics1.p.rapidapi.com\")\n",
    "\n",
    "apyKey = env('GENIUS_KEY')\n",
    "\n",
    "headers = {\n",
    "    'X-RapidAPI-Key': f\"{apyKey}\",\n",
    "    'X-RapidAPI-Host': \"genius-song-lyrics1.p.rapidapi.com\"\n",
    "}\n",
    "\n",
    "#lyrics\n",
    "#conn.request(\"GET\", \"/song/lyrics/?id=2396871\", headers=headers)\n",
    "\n",
    "#artist songs\n",
    "#conn.request(\"GET\", \"/artist/songs/?id=344497&per_page=20&page=1\", headers=headers)\n",
    "\n",
    "#artist albuns\n",
    "#conn.request(\"GET\", \"/artist/albums/?id=344497&per_page=20&page=1\", headers=headers)\n",
    "\n",
    "# search\n",
    "conn.request(\"GET\", \"/search/?q=taylor%20swift&per_page=10&page=1\", headers=headers)\n",
    "\n",
    "res = conn.getresponse()\n",
    "data = json.loads(res.read().decode(\"utf-8\"))\n",
    "\n",
    "if dump:\n",
    "    out_file = open(\"dumps/out.json\", \"w\")\n",
    "    json.dump(data, out_file, indent = 4)"
   ]
  },
  {
   "cell_type": "markdown",
   "metadata": {},
   "source": []
  },
  {
   "cell_type": "code",
   "execution_count": 25,
   "metadata": {},
   "outputs": [
    {
     "name": "stdout",
     "output_type": "stream",
     "text": [
      "1177\n",
      "All Too Well (10 Minute Version) (Taylor’s Version) [From The Vault] by Taylor Swift\n",
      "All Too Well (10 Minute Version) (Taylor's Version) [Live Acoustic] by Taylor Swift\n",
      "​cardigan by Taylor Swift\n",
      "​exile by Taylor Swift (Ft. Bon Iver)\n",
      "Lover by Taylor Swift\n",
      "​the 1 by Taylor Swift\n",
      "​august by Taylor Swift\n",
      "​betty by Taylor Swift\n",
      "Look What You Made Me Do by Taylor Swift\n",
      "​champagne problems by Taylor Swift\n"
     ]
    }
   ],
   "source": [
    "print(data['hits'][0]['result']['primary_artist']['id'])\n",
    "\n",
    "for i in data['hits']:\n",
    "    print(i['result']['full_title'])"
   ]
  }
 ],
 "metadata": {
  "kernelspec": {
   "display_name": "Python 3",
   "language": "python",
   "name": "python3"
  },
  "language_info": {
   "codemirror_mode": {
    "name": "ipython",
    "version": 3
   },
   "file_extension": ".py",
   "mimetype": "text/x-python",
   "name": "python",
   "nbconvert_exporter": "python",
   "pygments_lexer": "ipython3",
   "version": "3.10.7"
  },
  "orig_nbformat": 4
 },
 "nbformat": 4,
 "nbformat_minor": 2
}
