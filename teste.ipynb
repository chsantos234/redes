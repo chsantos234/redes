{
 "cells": [
  {
   "cell_type": "code",
   "execution_count": 1,
   "metadata": {},
   "outputs": [],
   "source": [
    "import http.client\n",
    "#from env import env\n",
    "import json"
   ]
  },
  {
   "cell_type": "code",
   "execution_count": 2,
   "metadata": {},
   "outputs": [
    {
     "ename": "FileNotFoundError",
     "evalue": "[Errno 2] No such file or directory: '.env'",
     "output_type": "error",
     "traceback": [
      "\u001b[1;31m---------------------------------------------------------------------------\u001b[0m",
      "\u001b[1;31mFileNotFoundError\u001b[0m                         Traceback (most recent call last)",
      "Cell \u001b[1;32mIn[2], line 2\u001b[0m\n\u001b[0;32m      1\u001b[0m \u001b[39m# Configure a chave da API Genius Lyrics\u001b[39;00m\n\u001b[1;32m----> 2\u001b[0m genius_key \u001b[39m=\u001b[39m env(\u001b[39m'\u001b[39;49m\u001b[39mGENIUS_KEY\u001b[39;49m\u001b[39m'\u001b[39;49m)\n\u001b[0;32m      4\u001b[0m \u001b[39m# Certifique-se de que a chave da API esteja configurada como uma variável de ambiente no servidor\u001b[39;00m\n\u001b[0;32m      6\u001b[0m \u001b[39mif\u001b[39;00m genius_key \u001b[39mis\u001b[39;00m \u001b[39mNone\u001b[39;00m:\n",
      "File \u001b[1;32md:\\arthu\\Projetos\\redes\\env.py:13\u001b[0m, in \u001b[0;36menv\u001b[1;34m(key, default, **kwargs)\u001b[0m\n\u001b[0;32m     10\u001b[0m config \u001b[39m=\u001b[39m {\u001b[39m\"\u001b[39m\u001b[39mfilename\u001b[39m\u001b[39m\"\u001b[39m: \u001b[39m'\u001b[39m\u001b[39m.env\u001b[39m\u001b[39m'\u001b[39m}\n\u001b[0;32m     11\u001b[0m config\u001b[39m.\u001b[39mupdate(kwargs)\n\u001b[1;32m---> 13\u001b[0m \u001b[39mwith\u001b[39;00m \u001b[39mopen\u001b[39;49m(config[\u001b[39m'\u001b[39;49m\u001b[39mfilename\u001b[39;49m\u001b[39m'\u001b[39;49m]) \u001b[39mas\u001b[39;00m infile:\n\u001b[0;32m     14\u001b[0m     data \u001b[39m=\u001b[39m {}\n\u001b[0;32m     15\u001b[0m     \u001b[39mfor\u001b[39;00m line \u001b[39min\u001b[39;00m infile:\n",
      "\u001b[1;31mFileNotFoundError\u001b[0m: [Errno 2] No such file or directory: '.env'"
     ]
    }
   ],
   "source": [
    "# Configure a chave da API Genius Lyrics\n",
    "genius_key = env('GENIUS_KEY')\n",
    "\n",
    "# Certifique-se de que a chave da API esteja configurada como uma variável de ambiente no servidor\n",
    "\n",
    "if genius_key is None:\n",
    "    raise ValueError(\"A chave da API Genius Lyrics não está configurada no servidor.\")\n",
    "\n",
    "# Configure a conexão HTTPS com a API Genius Lyrics\n",
    "conn = http.client.HTTPSConnection(\"genius-song-lyrics1.p.rapidapi.com\")\n",
    "\n",
    "# Configure os cabeçalhos com a chave da API\n",
    "headers = {\n",
    "    'X-RapidAPI-Key': genius_key,\n",
    "    'X-RapidAPI-Host': \"genius-song-lyrics1.p.rapidapi.com\"\n",
    "}\n",
    "\n",
    "# Realize a solicitação HTTP (no seu caso, para a pesquisa)\n",
    "conn.request(\"GET\", \"/search/?q=taylor%20swift&per_page=10&page=1\", headers=headers)\n",
    "\n",
    "# Obtenha a resposta da solicitação\n",
    "res = conn.getresponse()\n",
    "\n",
<<<<<<< Updated upstream:teste.ipynb
    "if dump:\n",
    "    out_file = open(\"dumps/out.json\", \"w\")\n",
    "    json.dump(data, out_file, indent = 4)"
=======
    "# Verifique o status da resposta (200 significa sucesso)\n",
    "if res.status == 200:\n",
    "    data = json.loads(res.read().decode(\"utf-8\"))\n",
    "\n",
    "    # Verifique se você deseja fazer um \"dump\" dos dados em um arquivo\n",
    "    dump = True\n",
    "\n",
    "    if dump:\n",
    "        out_file = open(\"dumps/out.json\", \"w\")\n",
    "        json.dump(data, out_file, indent=4)\n",
    "\n",
    "    # Agora você pode processar os dados conforme necessário\n",
    "\n",
    "else:\n",
    "    print(\"A solicitação HTTP falhou. Status:\", res.status)\n",
    "\n",
    "# Feche a conexão com a API\n",
    "conn.close()"
>>>>>>> Stashed changes:main.ipynb
   ]
  },
  {
   "cell_type": "markdown",
   "metadata": {},
   "source": []
  },
  {
   "cell_type": "code",
   "execution_count": 25,
   "metadata": {},
   "outputs": [
    {
     "name": "stdout",
     "output_type": "stream",
     "text": [
      "1177\n",
      "All Too Well (10 Minute Version) (Taylor’s Version) [From The Vault] by Taylor Swift\n",
      "All Too Well (10 Minute Version) (Taylor's Version) [Live Acoustic] by Taylor Swift\n",
      "​cardigan by Taylor Swift\n",
      "​exile by Taylor Swift (Ft. Bon Iver)\n",
      "Lover by Taylor Swift\n",
      "​the 1 by Taylor Swift\n",
      "​august by Taylor Swift\n",
      "​betty by Taylor Swift\n",
      "Look What You Made Me Do by Taylor Swift\n",
      "​champagne problems by Taylor Swift\n"
     ]
    }
   ],
   "source": [
    "print(data['hits'][0]['result']['primary_artist']['id'])\n",
    "\n",
    "for i in data['hits']:\n",
    "    print(i['result']['full_title'])"
   ]
  }
 ],
 "metadata": {
  "kernelspec": {
   "display_name": "Python 3",
   "language": "python",
   "name": "python3"
  },
  "language_info": {
   "codemirror_mode": {
    "name": "ipython",
    "version": 3
   },
   "file_extension": ".py",
   "mimetype": "text/x-python",
   "name": "python",
   "nbconvert_exporter": "python",
   "pygments_lexer": "ipython3",
   "version": "3.11.3"
  },
  "orig_nbformat": 4
 },
 "nbformat": 4,
 "nbformat_minor": 2
}
