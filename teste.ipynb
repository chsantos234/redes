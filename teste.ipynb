{
 "cells": [
  {
   "cell_type": "code",
   "execution_count": 1,
   "metadata": {},
   "outputs": [],
   "source": [
    "import http.client\n",
    "from env import env\n",
    "import json"
   ]
  },
  {
   "cell_type": "code",
   "execution_count": 4,
   "metadata": {},
   "outputs": [],
   "source": [
    "dump = True\n",
    "\n",
    "conn = http.client.HTTPSConnection(\"genius-song-lyrics1.p.rapidapi.com\")\n",
    "\n",
    "apyKey = env('GENIUS_KEY')\n",
    "\n",
    "headers = {\n",
    "    'X-RapidAPI-Key': f\"{apyKey}\",\n",
    "    'X-RapidAPI-Host': \"genius-song-lyrics1.p.rapidapi.com\"\n",
    "}\n",
    "\n",
    "#lyrics\n",
    "#conn.request(\"GET\", \"/song/lyrics/?id=2396871\", headers=headers)\n",
    "\n",
    "#artist songs\n",
    "conn.request(\"GET\", \"/artist/songs/?id=344497\", headers=headers)\n",
    "\n",
    "#artist albuns\n",
    "#conn.request(\"GET\", \"/artist/albums/?id=344497&per_page=20&page=1\", headers=headers)\n",
    "\n",
    "# search\n",
    "#conn.request(\"GET\", \"/search/?q=taylor%20swift&per_page=10&page=1\", headers=headers)\n",
    "\n",
    "res = conn.getresponse()\n",
    "data = json.loads(res.read().decode(\"utf-8\"))\n",
    "\n",
    "if dump:\n",
    "    out_file = open(\"dumps/out.json\", \"w\")\n",
    "    json.dump(data, out_file, indent = 4)"
   ]
  },
  {
   "cell_type": "code",
   "execution_count": 2,
   "metadata": {},
   "outputs": [],
   "source": [
    "import http.client\n",
    "from env import env\n",
    "import json"
   ]
  },
  {
   "cell_type": "markdown",
   "metadata": {},
   "source": []
  },
  {
   "cell_type": "code",
   "execution_count": 3,
   "metadata": {},
   "outputs": [
    {
     "name": "stdout",
     "output_type": "stream",
     "text": [
      "/song/lyrics/?id=4782869&text_format=plain\n"
     ]
    }
   ],
   "source": [
    "from extractor import genius_extractor\n",
    "\n",
    "clientResponse = \"letras,4782869\"\n",
    "\n",
    "data,url = genius_extractor.extractor(clientResponse)\n",
    "\n",
    "out_file = open(\"dumps/out.json\", \"w\")\n",
    "\n",
    "with open('dumps/out.json', 'w', encoding='utf8') as json_file:\n",
    "    json.dump(data,json_file,indent=4)\n",
    "\n",
    "#json.dump(data, out_file, indent = 4)\n",
    "print(url)"
   ]
  },
  {
   "cell_type": "code",
   "execution_count": 5,
   "metadata": {},
   "outputs": [
    {
     "name": "stdout",
     "output_type": "stream",
     "text": [
      "[Verse 1]\n",
      "I blew things out of proportion, now you're blue\n",
      "Put you in jail for something you didn’t do\n",
      "I pinned your hands behind your back, oh\n",
      "Thought I had reason to attack, but no\n",
      "\n",
      "[Pre-Chorus 1]\n",
      "Fighting with a true love is boxing with no gloves\n",
      "Chemistry 'til it blows up, 'til there’s no us\n",
      "Why'd I have to break what I love so much?\n",
      "It's on your face, and I'm to blame, I need to say\n",
      "\n",
      "[Chorus]\n",
      "Hey, it's all me, in my head\n",
      "I'm the one who burned us down\n",
      "But it's not what I meant\n",
      "Sorry that I hurt you\n",
      "I don't wanna do, I don’t wanna do this to you (Ooh)\n",
      "I don’t wanna lose, I don't wanna lose this with you (Ooh)\n",
      "I need to say, hey, it’s all me, just don't go\n",
      "Meet me in the afterglow\n",
      "\n",
      "[Verse 2]\n",
      "It's so excruciating to see you low\n",
      "Just wanna lift you up and not let you go\n",
      "This ultraviolet morning light below\n",
      "Tells me this love is worth the fight, oh\n",
      "\n",
      "[Pre-Chorus 2]\n",
      "I lived like an island, punished you with silence\n",
      "Went off like sirens, just crying\n",
      "Why'd I have to break what I love so much?\n",
      "It’s on your face, don't walk away, I need to say\n",
      "\n",
      "[Chorus]\n",
      "Hey, it's all me, in my head\n",
      "I'm the one who burned us down\n",
      "But it's not what I meant\n",
      "I'm sorry that I hurt you\n",
      "I don't wanna do, I don't wanna do this to you (Ooh)\n",
      "I don't wanna lose, I don't wanna lose this with you (Ooh)\n",
      "I need to say, hey, it's all me, just don't go\n",
      "Meet me in the afterglow\n",
      "\n",
      "[Bridge]\n",
      "Tell me that you're still mine\n",
      "Tell me that we'll be just fine\n",
      "Even when I lose my mind\n",
      "I need to say\n",
      "Tell me that it's not my fault\n",
      "Tell me that I'm all you want\n",
      "Even when I break your heart\n",
      "I need to say\n",
      "\n",
      "[Chorus]\n",
      "Hey, it's all me, in my head\n",
      "I'm the one who burned us down\n",
      "But it's not what I meant\n",
      "Sorry that I hurt you\n",
      "I don't wanna do, I don't wanna do this to you (Ooh)\n",
      "I don't wanna lose, I don't wanna lose this with you (Ooh)\n",
      "I need to say, hey, it's all me, just don't go\n",
      "Meet me in the afterglow\n"
     ]
    }
   ],
   "source": [
    "print(data['lyrics']['lyrics']['body']['plain'])"
   ]
  },
  {
   "cell_type": "code",
   "execution_count": 4,
   "metadata": {},
   "outputs": [
    {
     "name": "stdout",
     "output_type": "stream",
     "text": [
      "1989 Interview with Paul McGuire by Taylor Swift (Ft. Paul McGuire (CMT)) - 3820840\n",
      "1989 [Liner Notes] by Taylor Swift - 2292967\n",
      "1989 Tour Setlist by Taylor Swift - 2439212\n",
      "1989 World Tour Dates by Taylor Swift - 3303754\n",
      "1989 World Tour Outfits by Taylor Swift - 7362437\n",
      "1 step forward, 3 steps back by Olivia Rodrigo - 6702223\n",
      "2021 BRIT Global Icon Award Speech by Taylor Swift - 7220583\n",
      "2022 New York University Commencement Speech by Taylor Swift - 8013374\n",
      "22 by Midnite String Quartet - 7842569\n",
      "22 by The Vamps - 2934113\n",
      "22 by Alex Goot (Ft. Against The Current, King The Kid, Kurt Hugo Schneider & Sam Tsui) - 1999086\n",
      "22 by Bad Bad Hats - 5136093\n",
      "22 by KIDZ BOP Kids - 1958121\n",
      "22 by Taylor Swift - 102705\n",
      "22 by Cimorelli - 4836243\n",
      "22 (Taylor's Version) by Taylor Swift - 6688200\n",
      "30 Things I Learned Before Turning 30 by Taylor Swift - 4695769\n",
      "Acting Like a Boy* by Taylor Swift - 3367714\n",
      "Afterglow by Taylor Swift - 4782869\n"
     ]
    }
   ],
   "source": [
    "for i in data['songs']:\n",
    "    title = i['full_title']\n",
    "    songId = i['id']\n",
    "    print(f'{title} - {songId}')"
   ]
  }
 ],
 "metadata": {
  "kernelspec": {
   "display_name": "Python 3",
   "language": "python",
   "name": "python3"
  },
  "language_info": {
   "codemirror_mode": {
    "name": "ipython",
    "version": 3
   },
   "file_extension": ".py",
   "mimetype": "text/x-python",
   "name": "python",
   "nbconvert_exporter": "python",
   "pygments_lexer": "ipython3",
   "version": "3.10.7"
  },
  "orig_nbformat": 4
 },
 "nbformat": 4,
 "nbformat_minor": 2
}
